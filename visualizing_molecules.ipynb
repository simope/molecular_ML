{
 "cells": [
  {
   "cell_type": "code",
   "execution_count": 58,
   "metadata": {},
   "outputs": [
    {
     "data": {
      "image/png": "[encoded data removed]",
      "text/plain": [
       "<Figure size 500x500 with 1 Axes>"
      ]
     },
     "metadata": {},
     "output_type": "display_data"
    }
   ],
   "source": [
    "import networkx as nx\n",
    "import matplotlib.pyplot as plt\n",
    "from torch_geometric.datasets import QM9\n",
    "from torch_geometric.utils import to_networkx\n",
    "\n",
    "from constants import Z_TO_ELEMENT\n",
    "\n",
    "\n",
    "# Load QM9 dataset\n",
    "dataset = QM9(root='data/QM9')\n",
    "\n",
    "# Select a molecule\n",
    "data = dataset[0]\n",
    "\n",
    "# Convert to NetworkX graph\n",
    "G = to_networkx(data, to_undirected=True)\n",
    "\n",
    "atomic_numbers = data.x[:, 5].tolist()\n",
    "elements = {indx: Z_TO_ELEMENT[z] for indx, z in enumerate(atomic_numbers)}\n",
    "\n",
    "# Draw the molecular graph\n",
    "plt.figure(figsize=(5, 5))\n",
    "nx.draw(G, with_labels=True, labels=elements, node_color='lightblue', edge_color='gray', node_size=500)\n",
    "plt.title(\"2D Molecular Graph Visualization\")\n",
    "plt.show()"
   ]
  },
  {
   "cell_type": "code",
   "execution_count": 77,
   "metadata": {},
   "outputs": [
    {
     "name": "stdout",
     "output_type": "stream",
     "text": [
      "\n",
      "5\n",
      "my lovely molecule\n",
      "C -0.013 1.086 0.008\n",
      "H 0.002 -0.006 0.002\n",
      "H 1.012 1.464 0.000\n",
      "H -0.541 1.447 -0.877\n",
      "H -0.524 1.438 0.906\n",
      "\n"
     ]
    },
    {
     "data": {
      "application/3dmoljs_load.v0": "<div id=\"3dmolviewer_17420623235470645\"  style=\"position: relative; width: 800px; height: 400px;\">\n        <p id=\"3dmolwarning_17420623235470645\" style=\"background-color:#ffcccc;color:black\">3Dmol.js failed to load for some reason.  Please check your browser console for error messages.<br></p>\n        </div>\n<script>\n\nvar loadScriptAsync = function(uri){\n  return new Promise((resolve, reject) => {\n    //this is to ignore the existence of requirejs amd\n    var savedexports, savedmodule;\n    if (typeof exports !== 'undefined') savedexports = exports;\n    else exports = {}\n    if (typeof module !== 'undefined') savedmodule = module;\n    else module = {}\n\n    var tag = document.createElement('script');\n    tag.src = uri;\n    tag.async = true;\n    tag.onload = () => {\n        exports = savedexports;\n        module = savedmodule;\n        resolve();\n    };\n  var firstScriptTag = document.getElementsByTagName('script')[0];\n  firstScriptTag.parentNode.insertBefore(tag, firstScriptTag);\n});\n};\n\nif(typeof $3Dmolpromise === 'undefined') {\n$3Dmolpromise = null;\n  $3Dmolpromise = loadScriptAsync('https://cdnjs.cloudflare.com/ajax/libs/3Dmol/2.4.2/3Dmol-min.js');\n}\n\nvar viewer_17420623235470645 = null;\nvar warn = document.getElementById(\"3dmolwarning_17420623235470645\");\nif(warn) {\n    warn.parentNode.removeChild(warn);\n}\n$3Dmolpromise.then(function() {\nviewer_17420623235470645 = $3Dmol.createViewer(document.getElementById(\"3dmolviewer_17420623235470645\"),{backgroundColor:\"white\"});\nviewer_17420623235470645.zoomTo();\n\tviewer_17420623235470645.addModel(\"\\n5\\nmy lovely molecule\\nC -0.013 1.086 0.008\\nH 0.002 -0.006 0.002\\nH 1.012 1.464 0.000\\nH -0.541 1.447 -0.877\\nH -0.524 1.438 0.906\\n\",\"xyz\");\n\tviewer_17420623235470645.setStyle({\"stick\": {}});\nviewer_17420623235470645.render();\n});\n</script>",
      "text/html": [
       "<div id=\"3dmolviewer_17420623235470645\"  style=\"position: relative; width: 800px; height: 400px;\">\n",
       "        <p id=\"3dmolwarning_17420623235470645\" style=\"background-color:#ffcccc;color:black\">3Dmol.js failed to load for some reason.  Please check your browser console for error messages.<br></p>\n",
       "        </div>\n",
       "<script>\n",
       "\n",
       "var loadScriptAsync = function(uri){\n",
       "  return new Promise((resolve, reject) => {\n",
       "    //this is to ignore the existence of requirejs amd\n",
       "    var savedexports, savedmodule;\n",
       "    if (typeof exports !== 'undefined') savedexports = exports;\n",
       "    else exports = {}\n",
       "    if (typeof module !== 'undefined') savedmodule = module;\n",
       "    else module = {}\n",
       "\n",
       "    var tag = document.createElement('script');\n",
       "    tag.src = uri;\n",
       "    tag.async = true;\n",
       "    tag.onload = () => {\n",
       "        exports = savedexports;\n",
       "        module = savedmodule;\n",
       "        resolve();\n",
       "    };\n",
       "  var firstScriptTag = document.getElementsByTagName('script')[0];\n",
       "  firstScriptTag.parentNode.insertBefore(tag, firstScriptTag);\n",
       "});\n",
       "};\n",
       "\n",
       "if(typeof $3Dmolpromise === 'undefined') {\n",
       "$3Dmolpromise = null;\n",
       "  $3Dmolpromise = loadScriptAsync('https://cdnjs.cloudflare.com/ajax/libs/3Dmol/2.4.2/3Dmol-min.js');\n",
       "}\n",
       "\n",
       "var viewer_17420623235470645 = null;\n",
       "var warn = document.getElementById(\"3dmolwarning_17420623235470645\");\n",
       "if(warn) {\n",
       "    warn.parentNode.removeChild(warn);\n",
       "}\n",
       "$3Dmolpromise.then(function() {\n",
       "viewer_17420623235470645 = $3Dmol.createViewer(document.getElementById(\"3dmolviewer_17420623235470645\"),{backgroundColor:\"white\"});\n",
       "viewer_17420623235470645.zoomTo();\n",
       "\tviewer_17420623235470645.addModel(\"\\n5\\nmy lovely molecule\\nC -0.013 1.086 0.008\\nH 0.002 -0.006 0.002\\nH 1.012 1.464 0.000\\nH -0.541 1.447 -0.877\\nH -0.524 1.438 0.906\\n\",\"xyz\");\n",
       "\tviewer_17420623235470645.setStyle({\"stick\": {}});\n",
       "viewer_17420623235470645.render();\n",
       "});\n",
       "</script>"
      ]
     },
     "metadata": {},
     "output_type": "display_data"
    }
   ],
   "source": [
    "import py3Dmol\n",
    "\n",
    "\n",
    "# Load QM9 dataset\n",
    "dataset = QM9(root='data/QM9')\n",
    "\n",
    "# Select a molecule\n",
    "data = dataset[0]\n",
    "\n",
    "# Atomic numbers are stored in the 6th column of the node features (x)\n",
    "atomic_numbers = data.x[:, 5].tolist()\n",
    "# I convert them to element symbols with my periodic table dictionary\n",
    "atoms_labels_list = [Z_TO_ELEMENT[z] for z in atomic_numbers]\n",
    "# Get the 3D coordinates of the atoms\n",
    "coordinates = data.pos\n",
    "\n",
    "# Create a 3Dmol view\n",
    "view = py3Dmol.view(width=800, height=400)\n",
    "\n",
    "# Add atoms to the view\n",
    "xyz_str = f\"\"\"\n",
    "{len(atoms_labels_list)}\n",
    "my lovely molecule\n",
    "\"\"\"\n",
    "for i, atom in enumerate(atoms_labels_list):\n",
    "    x, y, z = coordinates[i]\n",
    "    xyz_str += f\"{atom} {x:.3f} {y:.3f} {z:.3f}\\n\"\n",
    "\n",
    "# Print out the XYZ string to verify the format\n",
    "print(xyz_str)\n",
    "\n",
    "# Add model in XYZ format\n",
    "view.addModel(xyz_str, \"xyz\")\n",
    "\n",
    "# Set the style\n",
    "view.setStyle({'stick': {}})\n",
    "\n",
    "# Show the 3D plot\n",
    "view.show()"
   ]
  },
  {
   "cell_type": "code",
   "execution_count": null,
   "metadata": {},
   "outputs": [],
   "source": []
  }
 ],
 "metadata": {
  "kernelspec": {
   "display_name": ".venv",
   "language": "python",
   "name": "python3"
  },
  "language_info": {
   "codemirror_mode": {
    "name": "ipython",
    "version": 3
   },
   "file_extension": ".py",
   "mimetype": "text/x-python",
   "name": "python",
   "nbconvert_exporter": "python",
   "pygments_lexer": "ipython3",
   "version": "3.12.4"
  }
 },
 "nbformat": 4,
 "nbformat_minor": 2
}
